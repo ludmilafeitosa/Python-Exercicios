{
 "cells": [
  {
   "cell_type": "markdown",
   "metadata": {},
   "source": [
    "<center><h2>Basico de Python (Fluxos, Controles e Laços)\n",
    "</center>"
   ]
  },
  {
   "cell_type": "markdown",
   "metadata": {},
   "source": [
    "<b>Exercicio 1:</b> Crie uma calculadora simples"
   ]
  },
  {
   "cell_type": "code",
   "execution_count": 16,
   "metadata": {},
   "outputs": [
    {
     "name": "stdout",
     "output_type": "stream",
     "text": [
      "9\n"
     ]
    }
   ],
   "source": [
    "valor1 = 9\n",
    "valor2 = 0\n",
    "\n",
    "calc = 'soma'\n",
    "\n",
    "if (calc =='soma'):\n",
    "    resultado = valor1 + valor2\n",
    "elif(calc=='multiplicacao'):\n",
    "    resultado = valor1 * valor2\n",
    "elif(calc=='subtracao'):\n",
    "    resultado = valor1-valor2\n",
    "elif(calc=='divisao'):\n",
    "    if(valor1==0 or valor2==0):\n",
    "        resultado = \"Erro, não é possível dividir por 0\"\n",
    "    else:\n",
    "        resultado=valor1/valor2\n",
    "else:\n",
    "    resultado = \"Não é uma operacao válida\"\n",
    "\n",
    "print(resultado)"
   ]
  },
  {
   "cell_type": "markdown",
   "metadata": {},
   "source": [
    "<b>Exercicio 2:</b> A partir do array: nota = [9,6,7,3,8,8,\"oito\", \"A\", \"C\"], tire a media desses valores. </br>\n",
    "Observação: Veja que tem string nesse array, a media só se tira "
   ]
  },
  {
   "cell_type": "code",
   "execution_count": 2,
   "metadata": {},
   "outputs": [
    {
     "name": "stdout",
     "output_type": "stream",
     "text": [
      "6.833333333333333\n"
     ]
    }
   ],
   "source": [
    "nota =  [9,6,7,3,8,8,\"oito\", \"A\", \"C\"]\n",
    "nota.remove(\"oito\")\n",
    "nota.remove(\"A\")\n",
    "nota.remove(\"C\")\n",
    "qtde= len(nota)\n",
    "soma=0\n",
    "for n in nota:\n",
    "    soma = soma + n\n",
    "media=soma/qtde\n",
    "print(media)\n",
    "\n",
    "\n"
   ]
  }
 ],
 "metadata": {
  "kernelspec": {
   "display_name": "Python 3",
   "language": "python",
   "name": "python3"
  },
  "language_info": {
   "codemirror_mode": {
    "name": "ipython",
    "version": 3
   },
   "file_extension": ".py",
   "mimetype": "text/x-python",
   "name": "python",
   "nbconvert_exporter": "python",
   "pygments_lexer": "ipython3",
   "version": "3.8.3"
  }
 },
 "nbformat": 4,
 "nbformat_minor": 2
}

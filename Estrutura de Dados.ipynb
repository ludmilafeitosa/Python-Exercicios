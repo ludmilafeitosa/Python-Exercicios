{
 "cells": [
  {
   "cell_type": "markdown",
   "metadata": {},
   "source": [
    "<center><h2> Estrutura de Dados\n",
    "</center>"
   ]
  },
  {
   "cell_type": "markdown",
   "metadata": {},
   "source": [
    "<b>Exercicio 1.</b> Hummm interessante, agora que vimos nossa primeira estrutura de dados, vamos fazer um exercicio bem legal.\n",
    "Voce tem uma tupla chamada feira.\n",
    "A feira contém: banana, pera, batata, uva, cebola, alho e açucar.\n",
    "\n",
    "Teu chefe te mandou a feira, e pediu para voce contrar esses produtos, um deles não da para comprar lá remova ele da lista. No caminho ele te ligou mandou voce também comprar maça e cenoura.\n",
    "\n",
    "Ele é mega chato, e mandou voce separar em duas sacolas, o que é fruta e o que é legume e entregar tudo ordenado.\n",
    "\n",
    "<b>feira = \"banana\", \"pera\", \"batata\", \"uva\", \"cebola\", \"alho\", \"açucar\"\"</b>"
   ]
  },
  {
   "cell_type": "code",
   "execution_count": 9,
   "metadata": {},
   "outputs": [
    {
     "name": "stdout",
     "output_type": "stream",
     "text": [
      "['banana', 'pera', 'batata', 'uva', 'cebola', 'alho', 'maça', 'cenoura']\n",
      "['banana', 'maça', 'pera', 'uva']\n",
      "['alho', 'batata', 'cebola', 'cenoura']\n"
     ]
    }
   ],
   "source": [
    "#instanciando as listas\n",
    "feira = [\"banana\",\"pera\",\"batata\",\"uva\",\"cebola\",\"alho\",\"açucar\"]\n",
    "fruta=[]\n",
    "legume=[]\n",
    "\n",
    "#removendo e adicionando itens na lista\n",
    "feira.remove(\"açucar\")\n",
    "feira.append(\"maça\")\n",
    "feira.append(\"cenoura\")\n",
    "\n",
    "#laço para separar frutas de legumes e colocar nas suas devidas listas\n",
    "for n in feira:\n",
    "    if (n == \"banana\" or n==\"pera\" or n==\"uva\" or n==\"maça\"):\n",
    "        fruta.append(n)\n",
    "    else:\n",
    "        legume.append(n)\n",
    "        \n",
    "#Ordenar feira itens e legumes\n",
    "fruta.sort()\n",
    "legume.sort()\n",
    "\n",
    "#Exibir itens e legumes\n",
    "print(feira)\n",
    "print(fruta)\n",
    "print(legume)\n",
    "\n"
   ]
  },
  {
   "cell_type": "markdown",
   "metadata": {},
   "source": [
    "<b>Exercicio2.</b> Lista: (4,5,3,4,56,3,2,31,1,7,8,9,0,234,7,8,9). Ordene a lista mostre os valores repetidos."
   ]
  },
  {
   "cell_type": "code",
   "execution_count": 31,
   "metadata": {},
   "outputs": [
    {
     "name": "stdout",
     "output_type": "stream",
     "text": [
      "[0, 1, 2, 3, 4, 4, 5, 7, 7, 8, 8, 9, 9, 31, 56, 234]\n",
      "[4, 7, 8, 9]\n"
     ]
    }
   ],
   "source": [
    "#instanciando as listas\n",
    "numeros=[4,5,4,56,3,2,31,1,7,8,9,0,234,7,8,9]\n",
    "naorepetidos= []\n",
    "repetidos=[]\n",
    "#ordenando a lista\n",
    "numeros.sort()\n",
    "\n",
    "#Laço para exibir somente os valores repetidos\n",
    "#Se item não estiver na lista naorepetidos incluir esse item na lista, caso contrário é um numero repetido então inclui \n",
    "#na lista repetidos.\n",
    "\n",
    "for n in numeros:\n",
    "    if (n not in naorepetidos):\n",
    "        naorepetidos.append(n)\n",
    "    else:\n",
    "        repetidos.append(n)\n",
    "print (numeros)            \n",
    "print (repetidos)            \n",
    "\n"
   ]
  },
  {
   "cell_type": "markdown",
   "metadata": {},
   "source": [
    "<b>Exercicio3.</b> Vamos voltar a feira, crie um dicionario, com os seguintes itens: banana = 0.98, maçã = 7.00, pera = 5.00, cenoura = 3.5"
   ]
  },
  {
   "cell_type": "code",
   "execution_count": 35,
   "metadata": {},
   "outputs": [
    {
     "name": "stdout",
     "output_type": "stream",
     "text": [
      "banana 0.98\n",
      "maça 7.0\n",
      "pera 5.0\n",
      "cenoura 3.5\n"
     ]
    }
   ],
   "source": [
    "#criando o dicionário\n",
    "sacola = dict({\"banana\": 0.98, \"maça\": 7.00, \"pera\": 5.00, \"cenoura\": 3.5})\n",
    "\n",
    "#laço para exibir a chave e o valor do dicionário  \n",
    "for chave,valor in sacola.items():\n",
    "    print(chave,valor)\n",
    " "
   ]
  },
  {
   "cell_type": "markdown",
   "metadata": {},
   "source": [
    "<center><h2> Estrutura de Dados (PANDAS)\n",
    "</center>"
   ]
  },
  {
   "cell_type": "code",
   "execution_count": null,
   "metadata": {},
   "outputs": [],
   "source": []
  }
 ],
 "metadata": {
  "kernelspec": {
   "display_name": "Python 3",
   "language": "python",
   "name": "python3"
  },
  "language_info": {
   "codemirror_mode": {
    "name": "ipython",
    "version": 3
   },
   "file_extension": ".py",
   "mimetype": "text/x-python",
   "name": "python",
   "nbconvert_exporter": "python",
   "pygments_lexer": "ipython3",
   "version": "3.8.3"
  }
 },
 "nbformat": 4,
 "nbformat_minor": 4
}
